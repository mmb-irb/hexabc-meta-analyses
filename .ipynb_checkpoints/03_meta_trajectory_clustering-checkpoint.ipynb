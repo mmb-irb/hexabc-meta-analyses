{
 "cells": [
  {
   "cell_type": "markdown",
   "id": "b34f0b91",
   "metadata": {},
   "source": [
    "### Meta-trajectories\n",
    "***\n",
    "\n",
    "**Jupyter Notebook** designed to demonstrate the power of the **hexABC REST-API programmatic interface**. \n",
    "\n",
    "The **REST API** is used to extract **trajectory fragments** and construct **meta-trajectories**. These **meta-trajectories** can then be analyzed to generate **meta-analyses** that are not directly available in the database.\n",
    "\n",
    "The workflow is powered by the [hexABC database REST API](https://mmb.irbbarcelona.org/webdev3/hexABC/rest)\n",
    "***\n"
   ]
  },
  {
   "cell_type": "markdown",
   "id": "9dbb629f",
   "metadata": {},
   "source": [
    "### Initializing Google Colab environment"
   ]
  },
  {
   "cell_type": "markdown",
   "id": "6da16855",
   "metadata": {},
   "source": [
    "## Initializing colab\n",
    "The two cells below are used only in case this notebook is executed via **Google Colab**. Take into account that, for running conda on **Google Colab**, the **condacolab** library must be installed. As [explained here](https://pypi.org/project/condacolab/), the installation requires a **kernel restart**, so when running this notebook in **Google Colab**, don't run all cells until this **installation** is properly **finished** and the **kernel** has **restarted**."
   ]
  },
  {
   "cell_type": "code",
   "execution_count": null,
   "id": "3ae07088",
   "metadata": {},
   "outputs": [],
   "source": [
    "# Only executed when using google colab\n",
    "import sys\n",
    "if 'google.colab' in sys.modules:\n",
    "  import subprocess\n",
    "  from pathlib import Path\n",
    "  try:\n",
    "    subprocess.run([\"conda\", \"-V\"], check=True)\n",
    "  except FileNotFoundError:\n",
    "    subprocess.run([sys.executable, \"-m\", \"pip\", \"install\", \"condacolab\"], check=True)\n",
    "    import condacolab\n",
    "    condacolab.install()\n",
    "    # Clone repository\n",
    "    repo_URL = \"https://github.com/mmb-irb/hexabc-meta-analyses.git\"\n",
    "    repo_name = Path(repo_URL).name.split('.')[0]\n",
    "    if not Path(repo_name).exists():\n",
    "      subprocess.run([\"mamba\", \"install\", \"-y\", \"git\"], check=True)\n",
    "      subprocess.run([\"git\", \"clone\", repo_URL], check=True)\n",
    "      print(\"⏬ Repository properly cloned.\")\n",
    "    # Install environment\n",
    "    print(\"⏳ Creating environment...\")\n",
    "    env_file_path = f\"{repo_name}/conda_env/environment.yml\"\n",
    "    subprocess.run([\"mamba\", \"env\", \"update\", \"-n\", \"base\", \"-f\", env_file_path], check=True)\n",
    "    print(\"🎨 Install NGLView dependencies...\")\n",
    "    subprocess.run([\"mamba\", \"install\", \"-y\", \"-c\", \"conda-forge\", \"nglview==3.0.8\", \"ipywidgets=7.7.2\"], check=True)\n",
    "    print(\"👍 Conda environment successfully created and updated.\")"
   ]
  },
  {
   "cell_type": "code",
   "execution_count": null,
   "id": "2b807f11",
   "metadata": {},
   "outputs": [],
   "source": [
    "# Enable widgets for colab\n",
    "if 'google.colab' in sys.modules:\n",
    "  from google.colab import output\n",
    "  output.enable_custom_widget_manager()"
   ]
  },
  {
   "cell_type": "markdown",
   "id": "44679c56",
   "metadata": {},
   "source": [
    "### Importing auxiliary libraries"
   ]
  },
  {
   "cell_type": "code",
   "execution_count": null,
   "id": "2f997c2a",
   "metadata": {},
   "outputs": [],
   "source": [
    "import requests\n",
    "import urllib\n",
    "import json\n",
    "import plotly\n",
    "import itertools\n",
    "import ipywidgets\n",
    "import nglview\n",
    "from IPython.display import display\n",
    "from math import ceil"
   ]
  },
  {
   "cell_type": "markdown",
   "id": "9bdee4eb",
   "metadata": {},
   "source": [
    "### Defining auxiliary functions"
   ]
  },
  {
   "cell_type": "code",
   "execution_count": null,
   "id": "c082022e",
   "metadata": {},
   "outputs": [],
   "source": [
    "#\n",
    "# find_seq: finding MD simulations containing a sequence fragment; Returns metadata for the systems found.\n",
    "#\n",
    "def find_seq(json_data, pattern):\n",
    "    complement_map = {'A': 'T', 'T': 'A', 'C': 'G', 'G': 'C'}\n",
    "    complement = ''.join(complement_map[base] for base in reversed(pattern))\n",
    "\n",
    "    matching_projects = []\n",
    "\n",
    "    for project in json_data:\n",
    "        watson_seq = project.get('sequences', [None])[0]\n",
    "\n",
    "        if watson_seq and len(watson_seq) > 4:\n",
    "            trimmed_seq = watson_seq[2:-2]  # Skip first and last 2 bases (flanking regions)\n",
    "            positions = []\n",
    "\n",
    "            #for motif in [pattern, complement]:\n",
    "            for motif in [pattern]:\n",
    "                pos = trimmed_seq.find(motif)\n",
    "                while pos != -1:\n",
    "                    # Adjust position relative to original sequence\n",
    "                    positions.append((motif, pos + 2))\n",
    "                    pos = trimmed_seq.find(motif, pos + 1)\n",
    "\n",
    "            if positions:\n",
    "                matching_projects.append({\n",
    "                    'id': project['id'],\n",
    "                    'name': project['name'],\n",
    "                    'sequence': watson_seq,\n",
    "                    'positions': positions\n",
    "                })\n",
    "\n",
    "    return matching_projects"
   ]
  },
  {
   "cell_type": "markdown",
   "id": "878caf37",
   "metadata": {},
   "source": [
    "### Base REST-API URL"
   ]
  },
  {
   "cell_type": "code",
   "execution_count": null,
   "id": "fef069eb",
   "metadata": {},
   "outputs": [],
   "source": [
    "API_BASE_URL = \"https://mmb.irbbarcelona.org/webdev3/hexABC/api\""
   ]
  },
  {
   "cell_type": "markdown",
   "id": "e5c13df1",
   "metadata": {},
   "source": [
    "### Getting projects info\n",
    "\n",
    "Retrieving all the **projects metadata** from the **hexABC database**.\n",
    "\n",
    "* Endpoint used: https://mmb.irbbarcelona.org/webdev3/hexABC/api/projects"
   ]
  },
  {
   "cell_type": "code",
   "execution_count": null,
   "id": "1a3fd685",
   "metadata": {
    "scrolled": true
   },
   "outputs": [],
   "source": [
    "url_get_projects = f'{API_BASE_URL}/projects?limit=1000'\n",
    "with urllib.request.urlopen(url_get_projects) as response:\n",
    "    r_projects = json.loads(response.read().decode(\"utf-8\"))\n",
    "print(json.dumps(r_projects, indent=4))"
   ]
  },
  {
   "cell_type": "markdown",
   "id": "31de1aa7",
   "metadata": {},
   "source": [
    "### Pagination\n",
    "\n",
    "If the number of **projects** exceeds the default limit (50), **pagination** is needed. In this case, we need to loop over the returned pages to store all the desired information.  \n"
   ]
  },
  {
   "cell_type": "code",
   "execution_count": null,
   "id": "33b7e3b9",
   "metadata": {},
   "outputs": [],
   "source": [
    "# Set a list to store all the mined metadata\n",
    "projects_metadata = []\n",
    "\n",
    "# Set a list to store all the mined accession values\n",
    "accessions = []\n",
    "\n",
    "# Get the number of projects from the previous response\n",
    "n_projects = r_projects['total']\n",
    "\n",
    "# Set the limit of projects per page\n",
    "limit = 100\n",
    "\n",
    "# Calculate the expected number of pages\n",
    "pages = ceil(n_projects / limit)\n",
    "\n",
    "# Iterate over pages\n",
    "for page in range(1, pages + 1):\n",
    "    \n",
    "    print(f'Requesting page {page}/{pages}', end='\\r')\n",
    "    \n",
    "    # Set the URL for the projects endpoint\n",
    "    # Include both limit and page parameters\n",
    "    paginated_url = f'{API_BASE_URL}/projects?limit={limit}&page={page}'\n",
    "    \n",
    "    # Query the API\n",
    "    with urllib.request.urlopen(paginated_url) as resp:\n",
    "        response = json.loads(resp.read().decode(\"utf-8\"))\n",
    "        \n",
    "        # Mine target data\n",
    "        projects = response['projects']\n",
    "        project_accessions = [ project['accession'] for project in projects]\n",
    "        accessions += project_accessions\n",
    "        projects_metadata = [*projects_metadata, *projects]\n",
    "    \n",
    "print(f'We have obtained metadata information for {len(accessions)} simulations')"
   ]
  },
  {
   "cell_type": "markdown",
   "id": "f498b6b9",
   "metadata": {},
   "source": [
    "## TRIMERS"
   ]
  },
  {
   "cell_type": "markdown",
   "id": "83327220",
   "metadata": {},
   "source": [
    "### Select the trimers\n",
    "\n",
    "Selecting the desired **trimers** from the list of all possible **DNA trimers** (e.g. AAA)"
   ]
  },
  {
   "cell_type": "code",
   "execution_count": null,
   "id": "ef3e0885",
   "metadata": {},
   "outputs": [],
   "source": [
    "# Generate all possible DNA trimers\n",
    "bases = ['A', 'T', 'C', 'G']\n",
    "trimer_list = [''.join(p) for p in itertools.product(bases, repeat=3)]\n",
    "\n",
    "mdsel = ipywidgets.Dropdown(\n",
    "    options=trimer_list,\n",
    "    description='Sel. trimer:',\n",
    "    disabled=False,\n",
    "    value='AAT' # default value\n",
    ")\n",
    "display(mdsel)"
   ]
  },
  {
   "cell_type": "markdown",
   "id": "8db36af8",
   "metadata": {},
   "source": [
    "### Searching for trimers\n",
    "\n",
    "Looking for specific **trimeric sequence** within the **dataset**. \n"
   ]
  },
  {
   "cell_type": "code",
   "execution_count": null,
   "id": "564c93ba",
   "metadata": {
    "scrolled": true
   },
   "outputs": [],
   "source": [
    "trimer = mdsel.value\n",
    "results = find_seq(projects_metadata, trimer)\n",
    "\n",
    "for result in results:\n",
    "    print(f\"{result['id']} - {result['name']}\")\n",
    "    print(f\"  Watson strand: {result['sequence']}\")\n",
    "    for motif, pos in result['positions']:\n",
    "        print(f\"    ↳ found '{motif}' at position {pos}\")\n"
   ]
  },
  {
   "cell_type": "markdown",
   "id": "35af3728",
   "metadata": {},
   "source": [
    "### Extract trajectories fragments\n",
    "\n",
    "For each **trimer** found, extract the **trajectory fragment** for the specific central **base pair** of the **trimer** (e.g. A**A**T). <br> Building a **meta-trajectory** from all the fragments.  \n",
    "\n",
    "Endpoints used:\n",
    "* https://mmb.irbbarcelona.org/webdev3/hexABC/api/projects/{id}/structure\n",
    "* https://mmb.irbbarcelona.org/webdev3/hexABC/api/projects/{id}/trajectory"
   ]
  },
  {
   "cell_type": "code",
   "execution_count": null,
   "id": "a47e16df-efc7-4eda-aa48-9add4e255f12",
   "metadata": {
    "scrolled": true
   },
   "outputs": [],
   "source": [
    "import os\n",
    "from glob import glob\n",
    "\n",
    "# Clean existing sub-trajectories\n",
    "old_traj_files = sorted(glob(\"*_backbone.xtc\"))\n",
    "for f in old_traj_files:\n",
    "    os.remove(f)\n",
    "        \n",
    "# Base topology\n",
    "entry = results[0]\n",
    "pos = entry['positions'][0][1] \n",
    "#ini = pos + 3 # pentamer case\n",
    "ini = pos + 2 # trimer case\n",
    "#ini = pos + 1 # monomer case\n",
    "end = 40 - ini + 1\n",
    "\n",
    "url_param = f\"{API_BASE_URL}/projects/{entry['id']}/structure?selection={ini}%20or%20{end}\"\n",
    "\n",
    "print(url_param)\n",
    "\n",
    "with urllib.request.urlopen(url_param) as response:\n",
    "    struct = response.read()\n",
    "\n",
    "# Filename \n",
    "topology = f\"{entry['sequence']}_backbone.pdb\"\n",
    "\n",
    "# Write the binary content to disk\n",
    "with open(topology, 'wb') as f:\n",
    "    f.write(struct)\n",
    "\n",
    "print(f\"Structure saved as {topology}\")\n",
    "\n",
    "for result in results:\n",
    "    print(f\"{result['id']} - {result['name']}\")\n",
    "    print(f\"  Watson strand: {result['sequence']}\")\n",
    "    \n",
    "    for motif, pos in result['positions']:\n",
    "        print(f\"    ↳ found '{motif}' at position {pos}\")\n",
    "\n",
    "        #ini = pos + 3 # pentamer case\n",
    "        ini = pos + 2 # trimer case\n",
    "        #ini = pos + 1 # monomer case\n",
    "        end = 40 - ini + 1\n",
    "        url_param = f\"{API_BASE_URL}/projects/{result['id']}/trajectory?format=xtc&frames=1:450000:500&selection={ini}%20or%20{end}\"\n",
    "        \n",
    "        print(url_param)\n",
    "        \n",
    "        with urllib.request.urlopen(url_param) as response:\n",
    "            traj = response.read()\n",
    "    \n",
    "        # Filename \n",
    "        filename = f\"{result['id']}_{pos}_backbone.xtc\"\n",
    "        \n",
    "        # Write the binary content to disk\n",
    "        with open(filename, 'wb') as f:\n",
    "            f.write(traj)\n",
    "        \n",
    "        print(f\"Trajectory saved as {filename}\")"
   ]
  },
  {
   "cell_type": "markdown",
   "id": "96951c9f-1722-478f-9ad5-22507e7910d8",
   "metadata": {},
   "source": [
    "### Building a meta-trajectory\n",
    "\n",
    "Taking all the **trajectory fragments**, putting them all together and aligning all frames to the first one. The resulting file is the meta-trajectory with all conformations of the specific central base-pair of the specific trimer found in the whole hexABC dataset.  \n",
    "\n",
    "Combining all **trajectory fragments** into a **single file** and **aligning** every frame to the first one yields a **meta-trajectory**. This **meta-trajectory** captures all **conformations** of the specific **central base pair** within the specified **trimer**, as observed across the entire **hexABC dataset**."
   ]
  },
  {
   "cell_type": "code",
   "execution_count": null,
   "id": "518b0d8d-0b87-449b-8617-d7b0cded0747",
   "metadata": {
    "scrolled": true
   },
   "outputs": [],
   "source": [
    "import MDAnalysis as mda\n",
    "from MDAnalysis.coordinates.XTC import XTCWriter\n",
    "from MDAnalysis.analysis import align\n",
    "\n",
    "# Grab all trajectory files you saved\n",
    "traj_files = sorted(glob(\"*_backbone.xtc\"))\n",
    "\n",
    "# Load initial universe and get reference positions\n",
    "u = mda.Universe(topology, traj_files[0])\n",
    "\n",
    "# Output writer\n",
    "with XTCWriter(\"meta_trajectory.xtc\", n_atoms=u.atoms.n_atoms) as writer:\n",
    "    for traj_file in traj_files:\n",
    "        print(f\"Appending: {traj_file}\")\n",
    "        u.load_new(traj_file)\n",
    "        for ts in u.trajectory:\n",
    "            writer.write(u.atoms)\n",
    "\n",
    "# Load your meta-trajectory\n",
    "u = mda.Universe(topology, \"meta_trajectory.xtc\")\n",
    "\n",
    "# Align to first frame using \"backbone\" or your preferred atom group\n",
    "aligner = align.AlignTraj(u, u, select=\"all\", in_memory=True)\n",
    "aligner.run()\n",
    "\n",
    "# Write aligned frames using a writer\n",
    "with XTCWriter(\"meta_trajectory_aligned.xtc\", n_atoms=u.atoms.n_atoms) as writer:\n",
    "    for ts in u.trajectory:\n",
    "        writer.write(u.atoms)"
   ]
  },
  {
   "cell_type": "markdown",
   "id": "89fe0980-cc34-4930-a043-f20f8b35ee65",
   "metadata": {},
   "source": [
    "### Visualize meta-trajectory\n",
    "\n",
    "Representing the **meta-trajectory** with **NGLview**"
   ]
  },
  {
   "cell_type": "code",
   "execution_count": null,
   "id": "418d15f9-1cc9-4a64-981f-73cb70332c84",
   "metadata": {},
   "outputs": [],
   "source": [
    "# Show trajectory\n",
    "view = nglview.show_simpletraj(nglview.SimpletrajTrajectory(\"meta_trajectory_aligned.xtc\", topology), gui=True)\n",
    "view"
   ]
  },
  {
   "cell_type": "markdown",
   "id": "6cfcc6e8-a4ef-487a-9051-033a00925b93",
   "metadata": {},
   "source": [
    "### Clustering the meta-trajectory\n",
    "\n",
    "**Clustering** the **meta-trajectory** by **RMSd**. Extracting a set of **50 centroids** representing the most populated **conformations** from the chosen **base pair**."
   ]
  },
  {
   "cell_type": "code",
   "execution_count": null,
   "id": "d5ceeb03-e1d8-4228-9243-63eb52f64d3e",
   "metadata": {},
   "outputs": [],
   "source": [
    "import mdtraj as md\n",
    "from sklearn.cluster import KMeans\n",
    "import numpy as np\n",
    "\n",
    "# Load trajectory\n",
    "traj = md.load(\"meta_trajectory_aligned.xtc\", top=topology)\n",
    "\n",
    "# Flatten coordinates for clustering\n",
    "X = traj.xyz.reshape(traj.n_frames, -1)\n",
    "\n",
    "# Cluster into k groups\n",
    "k = 50\n",
    "kmeans = KMeans(n_clusters=k, random_state=42).fit(X)\n",
    "labels = kmeans.labels_\n",
    "centroids = kmeans.cluster_centers_\n",
    "\n",
    "# Find closest frame to each centroid\n",
    "from scipy.spatial.distance import cdist\n",
    "closest_frames = np.argmin(cdist(X, centroids), axis=0)\n",
    "\n",
    "# Extract those frames\n",
    "centroid_traj = traj.slice(closest_frames)\n",
    "\n",
    "# Save them into one multi-model PDB file\n",
    "centroid_traj.save(\"cluster_centroids.pdb\")"
   ]
  },
  {
   "cell_type": "markdown",
   "id": "6ce2c6ef-2fbe-41ff-8847-6d2139d181be",
   "metadata": {},
   "source": [
    "### Visualize centroids (conformations)\n",
    "\n",
    "Representing the **clustering centroids** including the different **conformations** for the specific **base pair** with **NGLview**"
   ]
  },
  {
   "cell_type": "code",
   "execution_count": null,
   "id": "6488f989-a130-4d91-a079-bb5cc8b1f9ab",
   "metadata": {},
   "outputs": [],
   "source": [
    "view = nglview.show_structure_file(\"cluster_centroids.pdb\", default_representation=False)\n",
    "view.add_representation(repr_type='ball+stick', selection='all', color='element')\n",
    "view.center()\n",
    "view._remote_call('setSize', target='Widget', args=['','400px'])\n",
    "view\n"
   ]
  },
  {
   "cell_type": "markdown",
   "id": "917584a4-75cf-406a-af06-24ca15c40371",
   "metadata": {},
   "source": [
    "### Visualize conformations\n",
    "\n",
    "Representing the most relevant **conformations** found for the specific **base pair** with **NGLview**.\n",
    "For this specific case (A**A**T):\n",
    "- Left: **Watson-Crick** canonical base pairing\n",
    "- Middle: **Hoogsteen** base pairing\n",
    "- Right: **Opening**\n",
    "\n",
    "**Rotating / Translating** in the **left** pannel will trigger the same **rotations / translations** to the **middle** and **right** pannels. "
   ]
  },
  {
   "cell_type": "code",
   "execution_count": null,
   "id": "9664e1ad-8b6b-4553-a112-b8b1395cf026",
   "metadata": {},
   "outputs": [],
   "source": [
    "# Show conformations\n",
    "view1 = nglview.show_structure_file(\"cluster_centroids.pdb\", default_representation=False)\n",
    "view1._remote_call('setSize', target='Widget', args=['350px','400px'])\n",
    "view1.add_representation(repr_type='ball+stick', selection='/1', color='element')\n",
    "view1.camera='orthographic'\n",
    "view1.center()\n",
    "view1\n",
    "view2 = nglview.show_structure_file(\"cluster_centroids.pdb\", default_representation=False)\n",
    "view2._remote_call('setSize', target='Widget', args=['350px','400px'])\n",
    "view2.add_representation(repr_type='ball+stick', selection='/22', color='element')\n",
    "view2.camera='orthographic'\n",
    "view2.center()\n",
    "view2\n",
    "view3 = nglview.show_structure_file(\"cluster_centroids.pdb\", default_representation=False)\n",
    "view3._remote_call('setSize', target='Widget', args=['350px','400px'])\n",
    "view3.add_representation(repr_type='ball+stick', selection='/11', color='element')\n",
    "view3.camera='orthographic'\n",
    "view3.center()\n",
    "view3\n",
    "\n",
    "def on_change(change):\n",
    "    view2._set_camera_orientation(change['new'])\n",
    "    view3._set_camera_orientation(change['new'])\n",
    "    \n",
    "view1.observe(on_change, ['_camera_orientation'])\n",
    "\n",
    "ipywidgets.HBox([view1, view2, view3])"
   ]
  },
  {
   "cell_type": "code",
   "execution_count": null,
   "id": "a9c2ea34-b108-4ba8-9ccb-39a188e1fd07",
   "metadata": {},
   "outputs": [],
   "source": []
  }
 ],
 "metadata": {
  "kernelspec": {
   "display_name": "Python 3 (ipykernel)",
   "language": "python",
   "name": "python3"
  },
  "language_info": {
   "codemirror_mode": {
    "name": "ipython",
    "version": 3
   },
   "file_extension": ".py",
   "mimetype": "text/x-python",
   "name": "python",
   "nbconvert_exporter": "python",
   "pygments_lexer": "ipython3",
   "version": "3.9.12"
  }
 },
 "nbformat": 4,
 "nbformat_minor": 5
}
