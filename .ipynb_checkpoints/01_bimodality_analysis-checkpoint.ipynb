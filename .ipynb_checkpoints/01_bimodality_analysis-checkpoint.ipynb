{
 "cells": [
  {
   "cell_type": "markdown",
   "id": "11b86fa3",
   "metadata": {},
   "source": [
    "### Base pair parameters bimodality at the hexamer level \n",
    "***\n",
    "\n",
    "**Jupyter Notebook** designed to demonstrate the power of the **hexABC REST-API programmatic interface**. \n",
    "\n",
    "The **REST-API** is used to extract **base-pair step parameters** *(Rise, Shift, Slide, Roll, Twist, Tilt)* for specific **tetramer** sequences (e.g. TACT) in different **MD simulations** and different **sequences**. \n",
    "\n",
    "The workflow is powered by the [hexABC database REST API](https://mmb.irbbarcelona.org/webdev3/hexABC/rest)\n",
    "***\n"
   ]
  },
  {
   "cell_type": "markdown",
   "id": "a08393e9",
   "metadata": {},
   "source": [
    "### Importing auxiliary libraries"
   ]
  },
  {
   "cell_type": "code",
   "execution_count": null,
   "id": "b36639ea",
   "metadata": {},
   "outputs": [],
   "source": [
    "import requests\n",
    "import urllib\n",
    "import json\n",
    "import plotly\n",
    "import itertools\n",
    "import ipywidgets\n",
    "from IPython.display import display\n",
    "from math import ceil"
   ]
  },
  {
   "cell_type": "markdown",
   "id": "b421b526",
   "metadata": {},
   "source": [
    "### Defining auxiliary functions"
   ]
  },
  {
   "cell_type": "code",
   "execution_count": null,
   "id": "3d1902c3",
   "metadata": {},
   "outputs": [],
   "source": [
    "#\n",
    "# find_seq: finding MD simulations containing a sequence fragment; Returns metadata for the systems found.\n",
    "#\n",
    "def find_seq(json_data, pattern):\n",
    "    complement_map = {'A': 'T', 'T': 'A', 'C': 'G', 'G': 'C'}\n",
    "    complement = ''.join(complement_map[base] for base in reversed(pattern))\n",
    "\n",
    "    matching_projects = []\n",
    "\n",
    "    for project in json_data:\n",
    "        watson_seq = project.get('sequences', [None])[0]\n",
    "\n",
    "        if watson_seq and len(watson_seq) > 4:\n",
    "            trimmed_seq = watson_seq[2:-2]  # Skip first and last 2 bases (flanking regions)\n",
    "            positions = []\n",
    "\n",
    "            for motif in [pattern, complement]:\n",
    "                pos = trimmed_seq.find(motif)\n",
    "                while pos != -1:\n",
    "                    # Adjust position relative to original sequence\n",
    "                    positions.append((motif, pos + 2))\n",
    "                    pos = trimmed_seq.find(motif, pos + 1)\n",
    "\n",
    "            if positions:\n",
    "                matching_projects.append({\n",
    "                    'id': project['id'],\n",
    "                    'name': project['name'],\n",
    "                    'sequence': watson_seq,\n",
    "                    'positions': positions\n",
    "                })\n",
    "\n",
    "    return matching_projects"
   ]
  },
  {
   "cell_type": "markdown",
   "id": "025f1928",
   "metadata": {},
   "source": [
    "### Base REST-API URL"
   ]
  },
  {
   "cell_type": "code",
   "execution_count": null,
   "id": "f79189d8",
   "metadata": {},
   "outputs": [],
   "source": [
    "API_BASE_URL = \"https://mmb.irbbarcelona.org/webdev3/hexABC/api\""
   ]
  },
  {
   "cell_type": "markdown",
   "id": "733cdc7a",
   "metadata": {},
   "source": [
    "### Getting projects info\n",
    "\n",
    "Retrieving all the **projects metadata** from the **hexABC database**.\n",
    "\n",
    "* Endpoint used: https://mmb.irbbarcelona.org/webdev3/hexABC/api/projects"
   ]
  },
  {
   "cell_type": "code",
   "execution_count": null,
   "id": "1d120a5f",
   "metadata": {},
   "outputs": [],
   "source": [
    "url_get_projects = f'{API_BASE_URL}/projects?limit=1000'\n",
    "with urllib.request.urlopen(url_get_projects) as response:\n",
    "    r_projects = json.loads(response.read().decode(\"utf-8\"))\n",
    "print(json.dumps(r_projects, indent=4))"
   ]
  },
  {
   "cell_type": "markdown",
   "id": "6b7277f4",
   "metadata": {},
   "source": [
    "### Pagination\n",
    "\n",
    "If the number of **projects** exceeds the default limit (50), **pagination** is needed. In this case, we need to loop over the returned pages to store all the desired information.  \n"
   ]
  },
  {
   "cell_type": "code",
   "execution_count": null,
   "id": "70b6019d",
   "metadata": {},
   "outputs": [],
   "source": [
    "# Set a list to store all the mined metadata\n",
    "projects_metadata = []\n",
    "\n",
    "# Set a list to store all the mined accession values\n",
    "accessions = []\n",
    "\n",
    "# Get the number of projects from the previous response\n",
    "n_projects = r_projects['total']\n",
    "\n",
    "# Set the limit of projects per page\n",
    "limit = 100\n",
    "\n",
    "# Calculate the expected number of pages\n",
    "pages = ceil(n_projects / limit)\n",
    "\n",
    "# Iterate over pages\n",
    "for page in range(1, pages + 1):\n",
    "    \n",
    "    print(f'Requesting page {page}/{pages}', end='\\r')\n",
    "    \n",
    "    # Set the URL for the projects endpoint\n",
    "    # Include both limit and page parameters\n",
    "    paginated_url = f'{API_BASE_URL}/projects?limit={limit}&page={page}'\n",
    "    \n",
    "    # Query the API\n",
    "    with urllib.request.urlopen(paginated_url) as resp:\n",
    "        response = json.loads(resp.read().decode(\"utf-8\"))\n",
    "        \n",
    "        # Mine target data\n",
    "        projects = response['projects']\n",
    "        project_accessions = [ project['accession'] for project in projects]\n",
    "        accessions += project_accessions\n",
    "        projects_metadata = [*projects_metadata, *projects]\n",
    "    \n",
    "print(f'We have obtained metadata information for {len(accessions)} simulations')"
   ]
  },
  {
   "cell_type": "markdown",
   "id": "f0a2ad4e",
   "metadata": {},
   "source": [
    "## TETRAMERS"
   ]
  },
  {
   "cell_type": "markdown",
   "id": "660634b8",
   "metadata": {},
   "source": [
    "### Select the tetramer\n",
    "\n",
    "Selecting the desired **tetramer** from the list of all possible **DNA tetramers** (e.g. GTAT)"
   ]
  },
  {
   "cell_type": "code",
   "execution_count": null,
   "id": "489a2c9f",
   "metadata": {},
   "outputs": [],
   "source": [
    "# Generate all possible DNA tetramers\n",
    "bases = ['A', 'T', 'C', 'G']\n",
    "tetramer_list = [''.join(p) for p in itertools.product(bases, repeat=4)]\n",
    "\n",
    "mdsel = ipywidgets.Dropdown(\n",
    "    options=tetramer_list,\n",
    "    description='Sel. tetramer:',\n",
    "    disabled=False,\n",
    "    value='GTAT' # default value  \n",
    ")\n",
    "display(mdsel)"
   ]
  },
  {
   "cell_type": "markdown",
   "id": "4ea3fda3",
   "metadata": {},
   "source": [
    "### Searching for tetramers\n",
    "\n",
    "Looking for specific **tetrameric sequence** within the **dataset**. \n"
   ]
  },
  {
   "cell_type": "code",
   "execution_count": null,
   "id": "4c7f9804",
   "metadata": {
    "scrolled": true
   },
   "outputs": [],
   "source": [
    "tetramer = mdsel.value\n",
    "results = find_seq(projects_metadata, tetramer)\n",
    "\n",
    "for result in results:\n",
    "    print(f\"{result['id']} - {result['name']}\")\n",
    "    print(f\"  Watson strand: {result['sequence']}\")\n",
    "    for motif, pos in result['positions']:\n",
    "        print(f\"    ↳ found '{motif}' at position {pos}\")\n"
   ]
  },
  {
   "cell_type": "markdown",
   "id": "ac70506c",
   "metadata": {},
   "source": [
    "### Select the base pair step helical parameter pair\n",
    "\n",
    "Selecting the desired **base pair step helical parameter pair** from the list of all possible **pairs** (e.g. roll-twist)"
   ]
  },
  {
   "cell_type": "code",
   "execution_count": null,
   "id": "44023a7f",
   "metadata": {},
   "outputs": [],
   "source": [
    "# Base pair step helical parameters \n",
    "hel_parms = ['rise', 'shift', 'slide', 'roll', 'twist', 'tilt']\n",
    "\n",
    "# Generate all unique unordered pairs\n",
    "hel_parm_pairs = [f\"{a}-{b}\" for a, b in itertools.combinations(hel_parms, 2)]\n",
    "\n",
    "helsel = ipywidgets.Dropdown(\n",
    "    options=hel_parm_pairs,\n",
    "    description='Sel. pair:',\n",
    "    disabled=False,\n",
    "    value='shift-slide' # default value  #roll-twist\n",
    ")\n",
    "display(helsel)"
   ]
  },
  {
   "cell_type": "markdown",
   "id": "a3923848",
   "metadata": {},
   "source": [
    "### Extract base pair step parameter values\n",
    "\n",
    "For each **tetramer** found, extract the **base pair step parameter** values **along time** from the **MD dataset**. \n",
    "\n",
    "* Endpoint used: https://mmb.irbbarcelona.org/webdev3/hexABC/api/projects/{id}/analyses/time/{type}"
   ]
  },
  {
   "cell_type": "code",
   "execution_count": null,
   "id": "68bbe491",
   "metadata": {
    "scrolled": true
   },
   "outputs": [],
   "source": [
    "param1, param2 = helsel.value.split('-')\n",
    "\n",
    "aggregated_data_param1 = {}\n",
    "\n",
    "for result in results:\n",
    "    print(f\"{result['id']} - {result['name']}\")\n",
    "    print(f\"  Watson strand: {result['sequence']}\")\n",
    "\n",
    "    for motif, pos in result['positions']:\n",
    "        print(f\"    ↳ found '{motif}' at position {pos}\")\n",
    "\n",
    "        pos_index = pos + 2\n",
    "        url_param = f\"{API_BASE_URL}/projects/{result['id']}/analyses/time/{param1}?base={pos_index}\"\n",
    "        print(url_param)\n",
    "        with urllib.request.urlopen(url_param) as response:\n",
    "            r_param1 = json.loads(response.read().decode(\"utf-8\"))\n",
    "            aggregated_data_param1.update(r_param1)\n",
    "\n",
    "print(\"\\n\\n\\nStarting PARAM 2...\\n\\n\\n\")\n",
    "\n",
    "aggregated_data_param2 = {}\n",
    "\n",
    "for result in results:\n",
    "    print(f\"{result['id']} - {result['name']}\")\n",
    "    print(f\"  Watson strand: {result['sequence']}\")\n",
    "        \n",
    "    for motif, pos in result['positions']:\n",
    "        print(f\"    ↳ found '{motif}' at position {pos}\")\n",
    "\n",
    "        pos_index = pos + 2\n",
    "        url_param = f\"{API_BASE_URL}/projects/{result['id']}/analyses/time/{param2}?base={pos_index}\"\n",
    "        print(url_param)\n",
    "        with urllib.request.urlopen(url_param) as response:\n",
    "            r_param2 = json.loads(response.read().decode(\"utf-8\"))\n",
    "            aggregated_data_param2.update(r_param2)\n",
    "    "
   ]
  },
  {
   "cell_type": "markdown",
   "id": "d327f89f",
   "metadata": {},
   "source": [
    "### Plotting values\n",
    "\n",
    "Plotting **density maps** of the **base pair step helical parameter pair** for the **tetramer** on different **simulations**."
   ]
  },
  {
   "cell_type": "code",
   "execution_count": null,
   "id": "e553e2a5",
   "metadata": {},
   "outputs": [],
   "source": [
    "import pandas as pd\n",
    "import numpy as np\n",
    "import plotly.graph_objects as go\n",
    "from plotly.subplots import make_subplots\n",
    "from scipy.stats import gaussian_kde\n",
    "\n",
    "units = {\n",
    "    'rise': 'Å',\n",
    "    'shift': 'Å',\n",
    "    'slide': 'Å',\n",
    "    'roll': '°',\n",
    "    'twist': '°',\n",
    "    'tilt': '°'\n",
    "}\n",
    "\n",
    "# Convert inputs to arrays\n",
    "x = np.array(aggregated_data_param1[param1])\n",
    "y = np.array(aggregated_data_param2[param2])\n",
    "\n",
    "# KDE grid\n",
    "kde = gaussian_kde([x, y])\n",
    "xi, yi = np.mgrid[x.min():x.max():200j, y.min():y.max():200j]\n",
    "coords = np.vstack([xi.ravel(), yi.ravel()])\n",
    "zi = kde(coords).reshape(xi.shape)\n",
    "\n",
    "# Subplot grid\n",
    "fig = make_subplots(\n",
    "    rows=2, cols=2,\n",
    "    column_widths=[0.8, 0.2],\n",
    "    row_heights=[0.2, 0.8],\n",
    "    shared_xaxes=True,\n",
    "    shared_yaxes=True,\n",
    "    horizontal_spacing=0.02,\n",
    "    vertical_spacing=0.02\n",
    ")\n",
    "\n",
    "# Central density plot (blue palette)\n",
    "fig.add_trace(\n",
    "    go.Contour(\n",
    "        x=xi[:, 0], y=yi[0, :], z=zi.T,\n",
    "        colorscale='Blues',\n",
    "        contours_coloring='fill',\n",
    "        showscale=False\n",
    "    ),\n",
    "    row=2, col=1\n",
    ")\n",
    "\n",
    "# Top marginal KDE (no fill, blue line)\n",
    "x_kde = gaussian_kde(x)\n",
    "x_vals = np.linspace(x.min(), x.max(), 200)\n",
    "fig.add_trace(\n",
    "    go.Scatter(x=x_vals, y=x_kde(x_vals), mode='lines', line=dict(color='royalblue'), fill='tozeroy',fillcolor='rgba(65, 105, 225, 0.3)'),\n",
    "    row=1, col=1\n",
    ")\n",
    "\n",
    "# Right marginal KDE (no fill, blue line)\n",
    "y_kde = gaussian_kde(y)\n",
    "y_vals = np.linspace(y.min(), y.max(), 200)\n",
    "fig.add_trace(\n",
    "    go.Scatter(y=y_vals, x=y_kde(y_vals), mode='lines', line=dict(color='royalblue'), fill='tozerox', fillcolor='rgba(65, 105, 225, 0.3)'),\n",
    "    row=2, col=2\n",
    ")\n",
    "\n",
    "\n",
    "# Clean background and axis labels\n",
    "fig.update_layout(\n",
    "    title=tetramer,\n",
    "    plot_bgcolor='rgba(0,0,0,0)',\n",
    "    paper_bgcolor='white',\n",
    "    showlegend=False,\n",
    "    margin=dict(t=60, r=60, b=60, l=60),\n",
    "    yaxis1=dict(showticklabels=False),  # Hide y-ticks on top marginal\n",
    "    xaxis4=dict(showticklabels=False)   # Hide x-ticks on right marginal\n",
    ")\n",
    "\n",
    "fig.layout['xaxis3'].title = f'{param1} ({units[param1]})'  # x-axis title\n",
    "fig.layout['yaxis3'].title = f'{param2} ({units[param2]})'  # y-axis title\n",
    "\n",
    "\n",
    "fig.show()\n"
   ]
  },
  {
   "cell_type": "markdown",
   "id": "16e53cef",
   "metadata": {},
   "source": [
    "## HEXAMERS"
   ]
  },
  {
   "cell_type": "markdown",
   "id": "ecdd9823",
   "metadata": {},
   "source": [
    "### Select the hexamer\n",
    "\n",
    "Selecting the desired **hexamer** from the list of all possible **DNA hexamers** (e.g. TGTATA)"
   ]
  },
  {
   "cell_type": "code",
   "execution_count": null,
   "id": "38104b92",
   "metadata": {},
   "outputs": [],
   "source": [
    "# Generate all possible DNA tetramers\n",
    "bases = ['A', 'T', 'C', 'G']\n",
    "hexamer_list = [''.join(p) for p in itertools.product(bases, repeat=6)]\n",
    "\n",
    "mdsel = ipywidgets.Dropdown(\n",
    "    options=hexamer_list,\n",
    "    description='Sel. hexamer:',\n",
    "    disabled=False,\n",
    "    value='TGTATA' # default value \n",
    ")\n",
    "display(mdsel)"
   ]
  },
  {
   "cell_type": "markdown",
   "id": "e6db089e",
   "metadata": {},
   "source": [
    "### Searching for hexamers\n",
    "\n",
    "Looking for specific **hexameric sequence** within the **dataset**. \n"
   ]
  },
  {
   "cell_type": "code",
   "execution_count": null,
   "id": "7c8953df",
   "metadata": {
    "scrolled": true
   },
   "outputs": [],
   "source": [
    "hexamer = mdsel.value\n",
    "results = find_seq(projects_metadata, hexamer)\n",
    "\n",
    "for result in results:\n",
    "    print(f\"{result['id']} - {result['name']}\")\n",
    "    print(f\"  Watson strand: {result['sequence']}\")\n",
    "    for motif, pos in result['positions']:\n",
    "        print(f\"    ↳ found '{motif}' at position {pos}\")\n"
   ]
  },
  {
   "cell_type": "markdown",
   "id": "db1da608",
   "metadata": {},
   "source": [
    "### Select the base pair step helical parameter pair\n",
    "\n",
    "Selecting the desired **base pair step helical parameter pair** from the list of all possible **pairs** (e.g. slide-roll)"
   ]
  },
  {
   "cell_type": "code",
   "execution_count": null,
   "id": "3f5304b4",
   "metadata": {},
   "outputs": [],
   "source": [
    "# Base pair step helical parameters \n",
    "hel_parms = ['rise', 'shift', 'slide', 'roll', 'twist', 'tilt']\n",
    "\n",
    "# Generate all unique unordered pairs\n",
    "hel_parm_pairs = [f\"{a}-{b}\" for a, b in itertools.combinations(hel_parms, 2)]\n",
    "\n",
    "helsel = ipywidgets.Dropdown(\n",
    "    options=hel_parm_pairs,\n",
    "    description='Sel. pair:',\n",
    "    disabled=False,\n",
    "    value='shift-slide' # default value\n",
    ")\n",
    "display(helsel)"
   ]
  },
  {
   "cell_type": "markdown",
   "id": "607af223",
   "metadata": {},
   "source": [
    "### Extract base pair step parameter values\n",
    "\n",
    "For each **hexamer** found, extract the **base pair step parameter** values **along time** from the **MD dataset**. \n",
    "\n",
    "* Endpoint used: https://mmb.irbbarcelona.org/webdev3/hexABC/api/projects/{id}/analyses/time/{type}"
   ]
  },
  {
   "cell_type": "code",
   "execution_count": null,
   "id": "5f2f9914",
   "metadata": {
    "scrolled": true
   },
   "outputs": [],
   "source": [
    "param1, param2 = helsel.value.split('-')\n",
    "\n",
    "aggregated_data_param1 = {}\n",
    "\n",
    "for result in results:\n",
    "    print(f\"{result['id']} - {result['name']}\")\n",
    "    print(f\"  Watson strand: {result['sequence']}\")\n",
    "        \n",
    "    for motif, pos in result['positions']:\n",
    "        print(f\"    ↳ found '{motif}' at position {pos}\")\n",
    "        \n",
    "        pos_index = pos + 3\n",
    "        url_param = f\"{API_BASE_URL}/projects/{result['id']}/analyses/time/{param1}?base={pos_index}\"\n",
    "        print(url_param)\n",
    "        with urllib.request.urlopen(url_param) as response:\n",
    "            r_param1 = json.loads(response.read().decode(\"utf-8\"))\n",
    "            aggregated_data_param1.update(r_param1)\n",
    "\n",
    "print(\"\\n\\n\\nStarting PARAM 2...\\n\\n\\n\")\n",
    "\n",
    "aggregated_data_param2 = {}\n",
    "\n",
    "for result in results:\n",
    "    print(f\"{result['id']} - {result['name']}\")\n",
    "    print(f\"  Watson strand: {result['sequence']}\")\n",
    "    \n",
    "    for motif, pos in result['positions']:\n",
    "        print(f\"    ↳ found '{motif}' at position {pos}\")\n",
    "        \n",
    "        pos_index = pos + 3\n",
    "        url_param = f\"{API_BASE_URL}/projects/{result['id']}/analyses/time/{param2}?base={pos_index}\"\n",
    "        print(url_param)\n",
    "        with urllib.request.urlopen(url_param) as response:\n",
    "            r_param2 = json.loads(response.read().decode(\"utf-8\"))\n",
    "            aggregated_data_param2.update(r_param2)\n",
    "    "
   ]
  },
  {
   "cell_type": "markdown",
   "id": "10e44507",
   "metadata": {},
   "source": [
    "### Plotting values\n",
    "\n",
    "Plotting **density maps** of the **base pair step helical parameter pair** for the **tetramer** on different **simulations**."
   ]
  },
  {
   "cell_type": "code",
   "execution_count": null,
   "id": "49089777",
   "metadata": {},
   "outputs": [],
   "source": [
    "import pandas as pd\n",
    "import numpy as np\n",
    "import plotly.graph_objects as go\n",
    "from plotly.subplots import make_subplots\n",
    "from scipy.stats import gaussian_kde\n",
    "\n",
    "units = {\n",
    "    'rise': 'Å',\n",
    "    'shift': 'Å',\n",
    "    'slide': 'Å',\n",
    "    'roll': '°',\n",
    "    'twist': '°',\n",
    "    'tilt': '°'\n",
    "}\n",
    "\n",
    "# Convert inputs to arrays\n",
    "x = np.array(aggregated_data_param1[param1])\n",
    "y = np.array(aggregated_data_param2[param2])\n",
    "\n",
    "# KDE grid\n",
    "kde = gaussian_kde([x, y])\n",
    "xi, yi = np.mgrid[x.min():x.max():200j, y.min():y.max():200j]\n",
    "coords = np.vstack([xi.ravel(), yi.ravel()])\n",
    "zi = kde(coords).reshape(xi.shape)\n",
    "\n",
    "# Subplot grid\n",
    "fig = make_subplots(\n",
    "    rows=2, cols=2,\n",
    "    column_widths=[0.8, 0.2],\n",
    "    row_heights=[0.2, 0.8],\n",
    "    shared_xaxes=True,\n",
    "    shared_yaxes=True,\n",
    "    horizontal_spacing=0.02,\n",
    "    vertical_spacing=0.02\n",
    ")\n",
    "\n",
    "# Central density plot (blue palette)\n",
    "fig.add_trace(\n",
    "    go.Contour(\n",
    "        x=xi[:, 0], y=yi[0, :], z=zi.T,\n",
    "        colorscale='Blues',\n",
    "        contours_coloring='fill',\n",
    "        showscale=False\n",
    "    ),\n",
    "    row=2, col=1\n",
    ")\n",
    "\n",
    "# Top marginal KDE (no fill, blue line)\n",
    "x_kde = gaussian_kde(x)\n",
    "x_vals = np.linspace(x.min(), x.max(), 200)\n",
    "fig.add_trace(\n",
    "    go.Scatter(x=x_vals, y=x_kde(x_vals), mode='lines', line=dict(color='royalblue'), fill='tozeroy',fillcolor='rgba(65, 105, 225, 0.3)'),\n",
    "    row=1, col=1\n",
    ")\n",
    "\n",
    "# Right marginal KDE (no fill, blue line)\n",
    "y_kde = gaussian_kde(y)\n",
    "y_vals = np.linspace(y.min(), y.max(), 200)\n",
    "fig.add_trace(\n",
    "    go.Scatter(y=y_vals, x=y_kde(y_vals), mode='lines', line=dict(color='royalblue'), fill='tozerox', fillcolor='rgba(65, 105, 225, 0.3)'),\n",
    "    row=2, col=2\n",
    ")\n",
    "\n",
    "# Clean background and axis labels\n",
    "fig.update_layout(\n",
    "    title=hexamer,\n",
    "    plot_bgcolor='rgba(0,0,0,0)',\n",
    "    paper_bgcolor='white',\n",
    "    showlegend=False,\n",
    "    margin=dict(t=60, r=60, b=60, l=60),\n",
    "    yaxis1=dict(showticklabels=False),  # Hide y-ticks on top marginal\n",
    "    xaxis4=dict(showticklabels=False)   # Hide x-ticks on right marginal\n",
    ")\n",
    "\n",
    "fig.layout['xaxis3'].title = f'{param1} ({units[param1]})'  # x-axis title\n",
    "fig.layout['yaxis3'].title = f'{param2} ({units[param2]})'  # y-axis title\n",
    "\n",
    "\n",
    "fig.show()\n"
   ]
  },
  {
   "cell_type": "code",
   "execution_count": null,
   "id": "a420bab8",
   "metadata": {},
   "outputs": [],
   "source": []
  }
 ],
 "metadata": {
  "kernelspec": {
   "display_name": "Python 3 (ipykernel)",
   "language": "python",
   "name": "python3"
  },
  "language_info": {
   "codemirror_mode": {
    "name": "ipython",
    "version": 3
   },
   "file_extension": ".py",
   "mimetype": "text/x-python",
   "name": "python",
   "nbconvert_exporter": "python",
   "pygments_lexer": "ipython3",
   "version": "3.9.12"
  }
 },
 "nbformat": 4,
 "nbformat_minor": 5
}
